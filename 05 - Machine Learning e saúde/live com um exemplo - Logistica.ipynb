{
  "nbformat": 4,
  "nbformat_minor": 0,
  "metadata": {
    "colab": {
      "name": "Logistica.ipynb",
      "provenance": []
    },
    "kernelspec": {
      "name": "python3",
      "display_name": "Python 3"
    }
  },
  "cells": [
    {
      "cell_type": "code",
      "metadata": {
        "id": "Mlpp3dtwGIBL"
      },
      "source": [
        "import pandas as pd"
      ],
      "execution_count": null,
      "outputs": []
    },
    {
      "cell_type": "markdown",
      "metadata": {
        "id": "XN1EHae4naMi"
      },
      "source": [
        "https://archive.ics.uci.edu/ml/datasets/Heart+Disease"
      ]
    },
    {
      "cell_type": "code",
      "metadata": {
        "id": "qpTiIa5EHmDm"
      },
      "source": [
        "kokoro = pd.read_csv('heart.csv')"
      ],
      "execution_count": null,
      "outputs": []
    },
    {
      "cell_type": "code",
      "metadata": {
        "colab": {
          "base_uri": "https://localhost:8080/",
          "height": 202
        },
        "id": "_0SaxwLJHr3t",
        "outputId": "d96acb82-0851-43f1-e5ea-5fc5fb56c984"
      },
      "source": [
        "kokoro.head()"
      ],
      "execution_count": null,
      "outputs": [
        {
          "output_type": "execute_result",
          "data": {
            "text/html": [
              "<div>\n",
              "<style scoped>\n",
              "    .dataframe tbody tr th:only-of-type {\n",
              "        vertical-align: middle;\n",
              "    }\n",
              "\n",
              "    .dataframe tbody tr th {\n",
              "        vertical-align: top;\n",
              "    }\n",
              "\n",
              "    .dataframe thead th {\n",
              "        text-align: right;\n",
              "    }\n",
              "</style>\n",
              "<table border=\"1\" class=\"dataframe\">\n",
              "  <thead>\n",
              "    <tr style=\"text-align: right;\">\n",
              "      <th></th>\n",
              "      <th>age</th>\n",
              "      <th>sex</th>\n",
              "      <th>cp</th>\n",
              "      <th>trestbps</th>\n",
              "      <th>chol</th>\n",
              "      <th>fbs</th>\n",
              "      <th>restecg</th>\n",
              "      <th>thalach</th>\n",
              "      <th>exang</th>\n",
              "      <th>oldpeak</th>\n",
              "      <th>slope</th>\n",
              "      <th>ca</th>\n",
              "      <th>thal</th>\n",
              "      <th>target</th>\n",
              "    </tr>\n",
              "  </thead>\n",
              "  <tbody>\n",
              "    <tr>\n",
              "      <th>0</th>\n",
              "      <td>63</td>\n",
              "      <td>1</td>\n",
              "      <td>3</td>\n",
              "      <td>145</td>\n",
              "      <td>233</td>\n",
              "      <td>1</td>\n",
              "      <td>0</td>\n",
              "      <td>150</td>\n",
              "      <td>0</td>\n",
              "      <td>2.3</td>\n",
              "      <td>0</td>\n",
              "      <td>0</td>\n",
              "      <td>1</td>\n",
              "      <td>1</td>\n",
              "    </tr>\n",
              "    <tr>\n",
              "      <th>1</th>\n",
              "      <td>37</td>\n",
              "      <td>1</td>\n",
              "      <td>2</td>\n",
              "      <td>130</td>\n",
              "      <td>250</td>\n",
              "      <td>0</td>\n",
              "      <td>1</td>\n",
              "      <td>187</td>\n",
              "      <td>0</td>\n",
              "      <td>3.5</td>\n",
              "      <td>0</td>\n",
              "      <td>0</td>\n",
              "      <td>2</td>\n",
              "      <td>1</td>\n",
              "    </tr>\n",
              "    <tr>\n",
              "      <th>2</th>\n",
              "      <td>41</td>\n",
              "      <td>0</td>\n",
              "      <td>1</td>\n",
              "      <td>130</td>\n",
              "      <td>204</td>\n",
              "      <td>0</td>\n",
              "      <td>0</td>\n",
              "      <td>172</td>\n",
              "      <td>0</td>\n",
              "      <td>1.4</td>\n",
              "      <td>2</td>\n",
              "      <td>0</td>\n",
              "      <td>2</td>\n",
              "      <td>1</td>\n",
              "    </tr>\n",
              "    <tr>\n",
              "      <th>3</th>\n",
              "      <td>56</td>\n",
              "      <td>1</td>\n",
              "      <td>1</td>\n",
              "      <td>120</td>\n",
              "      <td>236</td>\n",
              "      <td>0</td>\n",
              "      <td>1</td>\n",
              "      <td>178</td>\n",
              "      <td>0</td>\n",
              "      <td>0.8</td>\n",
              "      <td>2</td>\n",
              "      <td>0</td>\n",
              "      <td>2</td>\n",
              "      <td>1</td>\n",
              "    </tr>\n",
              "    <tr>\n",
              "      <th>4</th>\n",
              "      <td>57</td>\n",
              "      <td>0</td>\n",
              "      <td>0</td>\n",
              "      <td>120</td>\n",
              "      <td>354</td>\n",
              "      <td>0</td>\n",
              "      <td>1</td>\n",
              "      <td>163</td>\n",
              "      <td>1</td>\n",
              "      <td>0.6</td>\n",
              "      <td>2</td>\n",
              "      <td>0</td>\n",
              "      <td>2</td>\n",
              "      <td>1</td>\n",
              "    </tr>\n",
              "  </tbody>\n",
              "</table>\n",
              "</div>"
            ],
            "text/plain": [
              "   age  sex  cp  trestbps  chol  fbs  ...  exang  oldpeak  slope  ca  thal  target\n",
              "0   63    1   3       145   233    1  ...      0      2.3      0   0     1       1\n",
              "1   37    1   2       130   250    0  ...      0      3.5      0   0     2       1\n",
              "2   41    0   1       130   204    0  ...      0      1.4      2   0     2       1\n",
              "3   56    1   1       120   236    0  ...      0      0.8      2   0     2       1\n",
              "4   57    0   0       120   354    0  ...      1      0.6      2   0     2       1\n",
              "\n",
              "[5 rows x 14 columns]"
            ]
          },
          "metadata": {
            "tags": []
          },
          "execution_count": 3
        }
      ]
    },
    {
      "cell_type": "markdown",
      "metadata": {
        "id": "6WE_Bml7JifQ"
      },
      "source": [
        "id: patient identification number\r\n",
        "\r\n",
        "age: age in years\r\n",
        "\r\n",
        "sex:(1 = male; 0 = female)\r\n",
        "\r\n",
        "cpchest: pain type\r\n",
        "\r\n",
        "trestbps: resting blood pressure (in mm Hg on admission to the hospital)\r\n",
        "\r\n",
        "chol: serum cholestoral in mg/dl\r\n",
        "\r\n",
        "fbs: (fasting blood sugar > 120 mg/dl) (1 = true; 0 = false)\r\n",
        "\r\n",
        "restecg: resting electrocardiographic results\r\n",
        "\r\n",
        "thalach: maximum heart rate achieved\r\n",
        "\r\n",
        "exang: exercise induced angina (1 = yes; 0 = no)\r\n",
        "\r\n",
        "oldpeak: ST depression induced by exercise relative to rest\r\n",
        "\r\n",
        "slope: the slope of the peak exercise ST segment\r\n",
        "\r\n",
        "ca: number of major vessels (0-3) colored by flourosopy\r\n",
        "\r\n",
        "thal: 3 = normal; 6 = fixed defect; 7 = reversable defect\r\n",
        "\r\n",
        "target: 1= Yes. Has heart disease, 0=No. Does not have heart disease"
      ]
    },
    {
      "cell_type": "code",
      "metadata": {
        "colab": {
          "base_uri": "https://localhost:8080/"
        },
        "id": "fapjX2TSIDg9",
        "outputId": "0f156dfe-de8d-4bd9-d95c-01e34087ca57"
      },
      "source": [
        "kokoro.shape"
      ],
      "execution_count": null,
      "outputs": [
        {
          "output_type": "execute_result",
          "data": {
            "text/plain": [
              "(303, 14)"
            ]
          },
          "metadata": {
            "tags": []
          },
          "execution_count": 4
        }
      ]
    },
    {
      "cell_type": "code",
      "metadata": {
        "id": "OaHaWvyCILnV"
      },
      "source": [
        "import seaborn as sns"
      ],
      "execution_count": null,
      "outputs": []
    },
    {
      "cell_type": "markdown",
      "metadata": {
        "id": "DC_4VbGcBupI"
      },
      "source": [
        "## Verificando se as classes estão balanceadas"
      ]
    },
    {
      "cell_type": "code",
      "metadata": {
        "colab": {
          "base_uri": "https://localhost:8080/",
          "height": 351
        },
        "id": "eyUHusfiMO_F",
        "outputId": "33085584-7c71-42eb-f842-b23de2912f5a"
      },
      "source": [
        "sns.countplot('target', data=kokoro)"
      ],
      "execution_count": null,
      "outputs": [
        {
          "output_type": "stream",
          "text": [
            "/usr/local/lib/python3.6/dist-packages/seaborn/_decorators.py:43: FutureWarning: Pass the following variable as a keyword arg: x. From version 0.12, the only valid positional argument will be `data`, and passing other arguments without an explicit keyword will result in an error or misinterpretation.\n",
            "  FutureWarning\n"
          ],
          "name": "stderr"
        },
        {
          "output_type": "execute_result",
          "data": {
            "text/plain": [
              "<matplotlib.axes._subplots.AxesSubplot at 0x7f3dff211ba8>"
            ]
          },
          "metadata": {
            "tags": []
          },
          "execution_count": 6
        },
        {
          "output_type": "display_data",
          "data": {
            "image/png": "[encoded data removed]",
            "text/plain": [
              "<Figure size 432x288 with 1 Axes>"
            ]
          },
          "metadata": {
            "tags": [],
            "needs_background": "light"
          }
        }
      ]
    },
    {
      "cell_type": "markdown",
      "metadata": {
        "id": "Bxa4DWcyB1cV"
      },
      "source": [
        "## Dando nome para as categorias"
      ]
    },
    {
      "cell_type": "code",
      "metadata": {
        "colab": {
          "base_uri": "https://localhost:8080/"
        },
        "id": "vRFyVuC-aisj",
        "outputId": "3be66091-43e6-4c38-81c6-a0ddb079d8ee"
      },
      "source": [
        "kokoro['sex'][kokoro['sex'] == 0] = 'Female'\r\n",
        "kokoro['sex'][kokoro['sex'] == 1] = 'Male'\r\n",
        "\r\n",
        "kokoro['cp'][kokoro['cp'] == 0] = 'Typical angina'\r\n",
        "kokoro['cp'][kokoro['cp'] == 1] = 'Atypical angina'\r\n",
        "kokoro['cp'][kokoro['cp'] == 2] = 'Non-anginal pain'\r\n",
        "kokoro['cp'][kokoro['cp'] == 3] = 'Asymptomatic'\r\n",
        "\r\n",
        "kokoro['fbs'][kokoro['fbs'] == 0] = 'Lower than 120mg/ml'\r\n",
        "kokoro['fbs'][kokoro['fbs'] == 1] = 'Greater than 120mg/ml'\r\n",
        "\r\n",
        "kokoro['restecg'][kokoro['restecg'] == 0] = 'Normal'\r\n",
        "kokoro['restecg'][kokoro['restecg'] == 1] = 'ST-T wave abnormality'\r\n",
        "kokoro['restecg'][kokoro['restecg'] == 2] = 'Left ventricular hypertrophy'\r\n",
        "\r\n",
        "kokoro['exang'][kokoro['exang'] == 0] = 'No'\r\n",
        "kokoro['exang'][kokoro['exang'] == 1] = 'Yes'\r\n",
        "\r\n",
        "kokoro['slope'][kokoro['slope'] == 0] = 'Upsloping'\r\n",
        "kokoro['slope'][kokoro['slope'] == 1] = 'Flat'\r\n",
        "kokoro['slope'][kokoro['slope'] == 2] = 'Downsloping'\r\n",
        "\r\n",
        "kokoro['thal'][kokoro['thal'] == 1] = 'Normal'\r\n",
        "kokoro['thal'][kokoro['thal'] == 2] = 'Fixed defect'\r\n",
        "kokoro['thal'][kokoro['thal'] == 3] = 'Reversable defect'"
      ],
      "execution_count": null,
      "outputs": [
        {
          "output_type": "stream",
          "text": [
            "/usr/local/lib/python3.6/dist-packages/ipykernel_launcher.py:1: SettingWithCopyWarning: \n",
            "A value is trying to be set on a copy of a slice from a DataFrame\n",
            "\n",
            "See the caveats in the documentation: https://pandas.pydata.org/pandas-docs/stable/user_guide/indexing.html#returning-a-view-versus-a-copy\n",
            "  \"\"\"Entry point for launching an IPython kernel.\n",
            "/usr/local/lib/python3.6/dist-packages/ipykernel_launcher.py:4: SettingWithCopyWarning: \n",
            "A value is trying to be set on a copy of a slice from a DataFrame\n",
            "\n",
            "See the caveats in the documentation: https://pandas.pydata.org/pandas-docs/stable/user_guide/indexing.html#returning-a-view-versus-a-copy\n",
            "  after removing the cwd from sys.path.\n",
            "/usr/local/lib/python3.6/dist-packages/ipykernel_launcher.py:9: SettingWithCopyWarning: \n",
            "A value is trying to be set on a copy of a slice from a DataFrame\n",
            "\n",
            "See the caveats in the documentation: https://pandas.pydata.org/pandas-docs/stable/user_guide/indexing.html#returning-a-view-versus-a-copy\n",
            "  if __name__ == '__main__':\n",
            "/usr/local/lib/python3.6/dist-packages/ipykernel_launcher.py:10: SettingWithCopyWarning: \n",
            "A value is trying to be set on a copy of a slice from a DataFrame\n",
            "\n",
            "See the caveats in the documentation: https://pandas.pydata.org/pandas-docs/stable/user_guide/indexing.html#returning-a-view-versus-a-copy\n",
            "  # Remove the CWD from sys.path while we load stuff.\n",
            "/usr/local/lib/python3.6/dist-packages/ipykernel_launcher.py:12: SettingWithCopyWarning: \n",
            "A value is trying to be set on a copy of a slice from a DataFrame\n",
            "\n",
            "See the caveats in the documentation: https://pandas.pydata.org/pandas-docs/stable/user_guide/indexing.html#returning-a-view-versus-a-copy\n",
            "  if sys.path[0] == '':\n",
            "/usr/local/lib/python3.6/dist-packages/ipykernel_launcher.py:16: SettingWithCopyWarning: \n",
            "A value is trying to be set on a copy of a slice from a DataFrame\n",
            "\n",
            "See the caveats in the documentation: https://pandas.pydata.org/pandas-docs/stable/user_guide/indexing.html#returning-a-view-versus-a-copy\n",
            "  app.launch_new_instance()\n",
            "/usr/local/lib/python3.6/dist-packages/ipykernel_launcher.py:17: SettingWithCopyWarning: \n",
            "A value is trying to be set on a copy of a slice from a DataFrame\n",
            "\n",
            "See the caveats in the documentation: https://pandas.pydata.org/pandas-docs/stable/user_guide/indexing.html#returning-a-view-versus-a-copy\n",
            "/usr/local/lib/python3.6/dist-packages/ipykernel_launcher.py:19: SettingWithCopyWarning: \n",
            "A value is trying to be set on a copy of a slice from a DataFrame\n",
            "\n",
            "See the caveats in the documentation: https://pandas.pydata.org/pandas-docs/stable/user_guide/indexing.html#returning-a-view-versus-a-copy\n",
            "/usr/local/lib/python3.6/dist-packages/ipykernel_launcher.py:23: SettingWithCopyWarning: \n",
            "A value is trying to be set on a copy of a slice from a DataFrame\n",
            "\n",
            "See the caveats in the documentation: https://pandas.pydata.org/pandas-docs/stable/user_guide/indexing.html#returning-a-view-versus-a-copy\n",
            "/usr/local/lib/python3.6/dist-packages/ipykernel_launcher.py:24: SettingWithCopyWarning: \n",
            "A value is trying to be set on a copy of a slice from a DataFrame\n",
            "\n",
            "See the caveats in the documentation: https://pandas.pydata.org/pandas-docs/stable/user_guide/indexing.html#returning-a-view-versus-a-copy\n",
            "/usr/local/lib/python3.6/dist-packages/ipykernel_launcher.py:25: SettingWithCopyWarning: \n",
            "A value is trying to be set on a copy of a slice from a DataFrame\n",
            "\n",
            "See the caveats in the documentation: https://pandas.pydata.org/pandas-docs/stable/user_guide/indexing.html#returning-a-view-versus-a-copy\n"
          ],
          "name": "stderr"
        }
      ]
    },
    {
      "cell_type": "code",
      "metadata": {
        "id": "b6srzaHuh7hF"
      },
      "source": [
        "import seaborn as sns"
      ],
      "execution_count": null,
      "outputs": []
    },
    {
      "cell_type": "code",
      "metadata": {
        "colab": {
          "base_uri": "https://localhost:8080/",
          "height": 438
        },
        "id": "qAmPo3Mnh6z4",
        "outputId": "e83aef2d-0805-4428-ac1b-3d4db7a087e6"
      },
      "source": [
        "sns.catplot('target','age', data=kokoro, kind='box')"
      ],
      "execution_count": null,
      "outputs": [
        {
          "output_type": "stream",
          "text": [
            "Pass the following variables as keyword args: x, y. From version 0.12, the only valid positional argument will be `data`, and passing other arguments without an explicit keyword will result in an error or misinterpretation.\n"
          ],
          "name": "stderr"
        },
        {
          "output_type": "execute_result",
          "data": {
            "text/plain": [
              "<seaborn.axisgrid.FacetGrid at 0x7f3d60ba5208>"
            ]
          },
          "metadata": {
            "tags": []
          },
          "execution_count": 120
        },
        {
          "output_type": "display_data",
          "data": {
            "image/png": "[encoded data removed]",
            "text/plain": [
              "<Figure size 360x360 with 1 Axes>"
            ]
          },
          "metadata": {
            "tags": [],
            "needs_background": "light"
          }
        }
      ]
    },
    {
      "cell_type": "code",
      "metadata": {
        "id": "A94Da0FaPj3q",
        "colab": {
          "base_uri": "https://localhost:8080/",
          "height": 202
        },
        "outputId": "00384cc8-19c2-48b8-b4ce-1261bc147f2b"
      },
      "source": [
        "kokoro.drop('trestbps', axis=1, inplace=True)\r\n",
        "kokoro.drop('chol', axis=1, inplace=True)\r\n",
        "kokoro.drop('restecg', axis=1, inplace=True)\r\n",
        "kokoro.drop('fbs', axis=1, inplace=True)\r\n",
        "kokoro.head()"
      ],
      "execution_count": null,
      "outputs": [
        {
          "output_type": "execute_result",
          "data": {
            "text/html": [
              "<div>\n",
              "<style scoped>\n",
              "    .dataframe tbody tr th:only-of-type {\n",
              "        vertical-align: middle;\n",
              "    }\n",
              "\n",
              "    .dataframe tbody tr th {\n",
              "        vertical-align: top;\n",
              "    }\n",
              "\n",
              "    .dataframe thead th {\n",
              "        text-align: right;\n",
              "    }\n",
              "</style>\n",
              "<table border=\"1\" class=\"dataframe\">\n",
              "  <thead>\n",
              "    <tr style=\"text-align: right;\">\n",
              "      <th></th>\n",
              "      <th>age</th>\n",
              "      <th>sex</th>\n",
              "      <th>cp</th>\n",
              "      <th>thalach</th>\n",
              "      <th>exang</th>\n",
              "      <th>oldpeak</th>\n",
              "      <th>slope</th>\n",
              "      <th>ca</th>\n",
              "      <th>thal</th>\n",
              "      <th>target</th>\n",
              "    </tr>\n",
              "  </thead>\n",
              "  <tbody>\n",
              "    <tr>\n",
              "      <th>0</th>\n",
              "      <td>63</td>\n",
              "      <td>Male</td>\n",
              "      <td>Asymptomatic</td>\n",
              "      <td>150</td>\n",
              "      <td>No</td>\n",
              "      <td>2.3</td>\n",
              "      <td>Upsloping</td>\n",
              "      <td>0</td>\n",
              "      <td>Normal</td>\n",
              "      <td>1</td>\n",
              "    </tr>\n",
              "    <tr>\n",
              "      <th>1</th>\n",
              "      <td>37</td>\n",
              "      <td>Male</td>\n",
              "      <td>Non-anginal pain</td>\n",
              "      <td>187</td>\n",
              "      <td>No</td>\n",
              "      <td>3.5</td>\n",
              "      <td>Upsloping</td>\n",
              "      <td>0</td>\n",
              "      <td>Fixed defect</td>\n",
              "      <td>1</td>\n",
              "    </tr>\n",
              "    <tr>\n",
              "      <th>2</th>\n",
              "      <td>41</td>\n",
              "      <td>Female</td>\n",
              "      <td>Atypical angina</td>\n",
              "      <td>172</td>\n",
              "      <td>No</td>\n",
              "      <td>1.4</td>\n",
              "      <td>Downsloping</td>\n",
              "      <td>0</td>\n",
              "      <td>Fixed defect</td>\n",
              "      <td>1</td>\n",
              "    </tr>\n",
              "    <tr>\n",
              "      <th>3</th>\n",
              "      <td>56</td>\n",
              "      <td>Male</td>\n",
              "      <td>Atypical angina</td>\n",
              "      <td>178</td>\n",
              "      <td>No</td>\n",
              "      <td>0.8</td>\n",
              "      <td>Downsloping</td>\n",
              "      <td>0</td>\n",
              "      <td>Fixed defect</td>\n",
              "      <td>1</td>\n",
              "    </tr>\n",
              "    <tr>\n",
              "      <th>4</th>\n",
              "      <td>57</td>\n",
              "      <td>Female</td>\n",
              "      <td>Typical angina</td>\n",
              "      <td>163</td>\n",
              "      <td>Yes</td>\n",
              "      <td>0.6</td>\n",
              "      <td>Downsloping</td>\n",
              "      <td>0</td>\n",
              "      <td>Fixed defect</td>\n",
              "      <td>1</td>\n",
              "    </tr>\n",
              "  </tbody>\n",
              "</table>\n",
              "</div>"
            ],
            "text/plain": [
              "   age     sex                cp  ...  ca          thal  target\n",
              "0   63    Male      Asymptomatic  ...   0        Normal       1\n",
              "1   37    Male  Non-anginal pain  ...   0  Fixed defect       1\n",
              "2   41  Female   Atypical angina  ...   0  Fixed defect       1\n",
              "3   56    Male   Atypical angina  ...   0  Fixed defect       1\n",
              "4   57  Female    Typical angina  ...   0  Fixed defect       1\n",
              "\n",
              "[5 rows x 10 columns]"
            ]
          },
          "metadata": {
            "tags": []
          },
          "execution_count": 8
        }
      ]
    },
    {
      "cell_type": "markdown",
      "metadata": {
        "id": "rKl6LMw3C9c8"
      },
      "source": [
        "## Tratando as variáveis categóricas"
      ]
    },
    {
      "cell_type": "code",
      "metadata": {
        "id": "uwN9uS_hZB1A"
      },
      "source": [
        "kokoro_final = pd.get_dummies(kokoro) #,drop_first = True"
      ],
      "execution_count": null,
      "outputs": []
    },
    {
      "cell_type": "code",
      "metadata": {
        "colab": {
          "base_uri": "https://localhost:8080/"
        },
        "id": "DmzLTKzA2ivL",
        "outputId": "4404b581-631b-4edf-f7f5-afa9286018b8"
      },
      "source": [
        "kokoro.columns"
      ],
      "execution_count": null,
      "outputs": [
        {
          "output_type": "execute_result",
          "data": {
            "text/plain": [
              "Index(['age', 'sex', 'cp', 'thalach', 'exang', 'oldpeak', 'slope', 'ca',\n",
              "       'thal', 'target'],\n",
              "      dtype='object')"
            ]
          },
          "metadata": {
            "tags": []
          },
          "execution_count": 121
        }
      ]
    },
    {
      "cell_type": "code",
      "metadata": {
        "colab": {
          "base_uri": "https://localhost:8080/"
        },
        "id": "l9u5VOw8aK1m",
        "outputId": "d3c78974-304b-462b-dc94-17f551276ed2"
      },
      "source": [
        "kokoro_final.columns"
      ],
      "execution_count": null,
      "outputs": [
        {
          "output_type": "execute_result",
          "data": {
            "text/plain": [
              "Index(['age', 'thalach', 'oldpeak', 'ca', 'target', 'sex_Female', 'sex_Male',\n",
              "       'cp_Asymptomatic', 'cp_Atypical angina', 'cp_Non-anginal pain',\n",
              "       'cp_Typical angina', 'exang_No', 'exang_Yes', 'slope_Downsloping',\n",
              "       'slope_Flat', 'slope_Upsloping', 'thal_0', 'thal_Fixed defect',\n",
              "       'thal_Normal', 'thal_Reversable defect'],\n",
              "      dtype='object')"
            ]
          },
          "metadata": {
            "tags": []
          },
          "execution_count": 45
        }
      ]
    },
    {
      "cell_type": "code",
      "metadata": {
        "id": "0564hBjugWYN"
      },
      "source": [
        "cols = kokoro_final.columns.to_list()"
      ],
      "execution_count": null,
      "outputs": []
    },
    {
      "cell_type": "code",
      "metadata": {
        "colab": {
          "base_uri": "https://localhost:8080/"
        },
        "id": "Y80pHoRGgdlj",
        "outputId": "6b11403a-2afd-47af-ef6f-06c16bc65c9c"
      },
      "source": [
        "cols[0:4]+cols[5:]+['target']"
      ],
      "execution_count": null,
      "outputs": [
        {
          "output_type": "execute_result",
          "data": {
            "text/plain": [
              "['age',\n",
              " 'thalach',\n",
              " 'oldpeak',\n",
              " 'ca',\n",
              " 'sex_Female',\n",
              " 'sex_Male',\n",
              " 'cp_Asymptomatic',\n",
              " 'cp_Atypical angina',\n",
              " 'cp_Non-anginal pain',\n",
              " 'cp_Typical angina',\n",
              " 'exang_No',\n",
              " 'exang_Yes',\n",
              " 'slope_Downsloping',\n",
              " 'slope_Flat',\n",
              " 'slope_Upsloping',\n",
              " 'thal_0',\n",
              " 'thal_Fixed defect',\n",
              " 'thal_Normal',\n",
              " 'thal_Reversable defect',\n",
              " 'target']"
            ]
          },
          "metadata": {
            "tags": []
          },
          "execution_count": 47
        }
      ]
    },
    {
      "cell_type": "code",
      "metadata": {
        "id": "nnB50HVtaNJ9"
      },
      "source": [
        "from sklearn.model_selection import train_test_split"
      ],
      "execution_count": null,
      "outputs": []
    },
    {
      "cell_type": "code",
      "metadata": {
        "id": "-lSHo5hpcp4j"
      },
      "source": [
        "X = kokoro_final[cols[0:4]+cols[5:]]"
      ],
      "execution_count": null,
      "outputs": []
    },
    {
      "cell_type": "code",
      "metadata": {
        "colab": {
          "base_uri": "https://localhost:8080/",
          "height": 257
        },
        "id": "ZN5CHxGzhWfM",
        "outputId": "11ab3b5c-6253-437b-cf42-5fade41ce0ec"
      },
      "source": [
        "X.head()"
      ],
      "execution_count": null,
      "outputs": [
        {
          "output_type": "execute_result",
          "data": {
            "text/html": [
              "<div>\n",
              "<style scoped>\n",
              "    .dataframe tbody tr th:only-of-type {\n",
              "        vertical-align: middle;\n",
              "    }\n",
              "\n",
              "    .dataframe tbody tr th {\n",
              "        vertical-align: top;\n",
              "    }\n",
              "\n",
              "    .dataframe thead th {\n",
              "        text-align: right;\n",
              "    }\n",
              "</style>\n",
              "<table border=\"1\" class=\"dataframe\">\n",
              "  <thead>\n",
              "    <tr style=\"text-align: right;\">\n",
              "      <th></th>\n",
              "      <th>age</th>\n",
              "      <th>thalach</th>\n",
              "      <th>oldpeak</th>\n",
              "      <th>ca</th>\n",
              "      <th>sex_Female</th>\n",
              "      <th>sex_Male</th>\n",
              "      <th>cp_Asymptomatic</th>\n",
              "      <th>cp_Atypical angina</th>\n",
              "      <th>cp_Non-anginal pain</th>\n",
              "      <th>cp_Typical angina</th>\n",
              "      <th>exang_No</th>\n",
              "      <th>exang_Yes</th>\n",
              "      <th>slope_Downsloping</th>\n",
              "      <th>slope_Flat</th>\n",
              "      <th>slope_Upsloping</th>\n",
              "      <th>thal_0</th>\n",
              "      <th>thal_Fixed defect</th>\n",
              "      <th>thal_Normal</th>\n",
              "      <th>thal_Reversable defect</th>\n",
              "    </tr>\n",
              "  </thead>\n",
              "  <tbody>\n",
              "    <tr>\n",
              "      <th>0</th>\n",
              "      <td>63</td>\n",
              "      <td>150</td>\n",
              "      <td>2.3</td>\n",
              "      <td>0</td>\n",
              "      <td>0</td>\n",
              "      <td>1</td>\n",
              "      <td>1</td>\n",
              "      <td>0</td>\n",
              "      <td>0</td>\n",
              "      <td>0</td>\n",
              "      <td>1</td>\n",
              "      <td>0</td>\n",
              "      <td>0</td>\n",
              "      <td>0</td>\n",
              "      <td>1</td>\n",
              "      <td>0</td>\n",
              "      <td>0</td>\n",
              "      <td>1</td>\n",
              "      <td>0</td>\n",
              "    </tr>\n",
              "    <tr>\n",
              "      <th>1</th>\n",
              "      <td>37</td>\n",
              "      <td>187</td>\n",
              "      <td>3.5</td>\n",
              "      <td>0</td>\n",
              "      <td>0</td>\n",
              "      <td>1</td>\n",
              "      <td>0</td>\n",
              "      <td>0</td>\n",
              "      <td>1</td>\n",
              "      <td>0</td>\n",
              "      <td>1</td>\n",
              "      <td>0</td>\n",
              "      <td>0</td>\n",
              "      <td>0</td>\n",
              "      <td>1</td>\n",
              "      <td>0</td>\n",
              "      <td>1</td>\n",
              "      <td>0</td>\n",
              "      <td>0</td>\n",
              "    </tr>\n",
              "    <tr>\n",
              "      <th>2</th>\n",
              "      <td>41</td>\n",
              "      <td>172</td>\n",
              "      <td>1.4</td>\n",
              "      <td>0</td>\n",
              "      <td>1</td>\n",
              "      <td>0</td>\n",
              "      <td>0</td>\n",
              "      <td>1</td>\n",
              "      <td>0</td>\n",
              "      <td>0</td>\n",
              "      <td>1</td>\n",
              "      <td>0</td>\n",
              "      <td>1</td>\n",
              "      <td>0</td>\n",
              "      <td>0</td>\n",
              "      <td>0</td>\n",
              "      <td>1</td>\n",
              "      <td>0</td>\n",
              "      <td>0</td>\n",
              "    </tr>\n",
              "    <tr>\n",
              "      <th>3</th>\n",
              "      <td>56</td>\n",
              "      <td>178</td>\n",
              "      <td>0.8</td>\n",
              "      <td>0</td>\n",
              "      <td>0</td>\n",
              "      <td>1</td>\n",
              "      <td>0</td>\n",
              "      <td>1</td>\n",
              "      <td>0</td>\n",
              "      <td>0</td>\n",
              "      <td>1</td>\n",
              "      <td>0</td>\n",
              "      <td>1</td>\n",
              "      <td>0</td>\n",
              "      <td>0</td>\n",
              "      <td>0</td>\n",
              "      <td>1</td>\n",
              "      <td>0</td>\n",
              "      <td>0</td>\n",
              "    </tr>\n",
              "    <tr>\n",
              "      <th>4</th>\n",
              "      <td>57</td>\n",
              "      <td>163</td>\n",
              "      <td>0.6</td>\n",
              "      <td>0</td>\n",
              "      <td>1</td>\n",
              "      <td>0</td>\n",
              "      <td>0</td>\n",
              "      <td>0</td>\n",
              "      <td>0</td>\n",
              "      <td>1</td>\n",
              "      <td>0</td>\n",
              "      <td>1</td>\n",
              "      <td>1</td>\n",
              "      <td>0</td>\n",
              "      <td>0</td>\n",
              "      <td>0</td>\n",
              "      <td>1</td>\n",
              "      <td>0</td>\n",
              "      <td>0</td>\n",
              "    </tr>\n",
              "  </tbody>\n",
              "</table>\n",
              "</div>"
            ],
            "text/plain": [
              "   age  thalach  ...  thal_Normal  thal_Reversable defect\n",
              "0   63      150  ...            1                       0\n",
              "1   37      187  ...            0                       0\n",
              "2   41      172  ...            0                       0\n",
              "3   56      178  ...            0                       0\n",
              "4   57      163  ...            0                       0\n",
              "\n",
              "[5 rows x 19 columns]"
            ]
          },
          "metadata": {
            "tags": []
          },
          "execution_count": 50
        }
      ]
    },
    {
      "cell_type": "code",
      "metadata": {
        "id": "XJWhrcDyyUlk"
      },
      "source": [
        "from sklearn.preprocessing import StandardScaler"
      ],
      "execution_count": null,
      "outputs": []
    },
    {
      "cell_type": "code",
      "metadata": {
        "id": "omD7nqy10HkP"
      },
      "source": [
        "scaler = StandardScaler()"
      ],
      "execution_count": null,
      "outputs": []
    },
    {
      "cell_type": "code",
      "metadata": {
        "colab": {
          "base_uri": "https://localhost:8080/"
        },
        "id": "scevhT_v0NRQ",
        "outputId": "49216512-aa17-48f6-d1c6-d7a004c8c8df"
      },
      "source": [
        "scaler.fit(X)"
      ],
      "execution_count": null,
      "outputs": [
        {
          "output_type": "execute_result",
          "data": {
            "text/plain": [
              "StandardScaler(copy=True, with_mean=True, with_std=True)"
            ]
          },
          "metadata": {
            "tags": []
          },
          "execution_count": 53
        }
      ]
    },
    {
      "cell_type": "code",
      "metadata": {
        "id": "EE-HBVxu0SHB"
      },
      "source": [
        "X_t = scaler.transform(X)"
      ],
      "execution_count": null,
      "outputs": []
    },
    {
      "cell_type": "code",
      "metadata": {
        "colab": {
          "base_uri": "https://localhost:8080/"
        },
        "id": "MrUPPU5m5Irr",
        "outputId": "352c41ce-e3c4-4854-961f-8817526998c9"
      },
      "source": [
        "X_t"
      ],
      "execution_count": null,
      "outputs": [
        {
          "output_type": "execute_result",
          "data": {
            "text/plain": [
              "array([[ 0.9521966 ,  0.01544279,  1.08733806, ..., -1.10076284,\n",
              "         3.97911213, -0.79311554],\n",
              "       [-1.91531289,  1.63347147,  2.12257273, ...,  0.9084609 ,\n",
              "        -0.25131234, -0.79311554],\n",
              "       [-1.47415758,  0.97751389,  0.31091206, ...,  0.9084609 ,\n",
              "        -0.25131234, -0.79311554],\n",
              "       ...,\n",
              "       [ 1.50364073, -0.37813176,  2.03630317, ..., -1.10076284,\n",
              "        -0.25131234,  1.26085034],\n",
              "       [ 0.29046364, -1.51512489,  0.13837295, ..., -1.10076284,\n",
              "        -0.25131234,  1.26085034],\n",
              "       [ 0.29046364,  1.0649749 , -0.89686172, ...,  0.9084609 ,\n",
              "        -0.25131234, -0.79311554]])"
            ]
          },
          "metadata": {
            "tags": []
          },
          "execution_count": 123
        }
      ]
    },
    {
      "cell_type": "code",
      "metadata": {
        "id": "eMGoP5c0cyeW"
      },
      "source": [
        "y = kokoro_final['target']"
      ],
      "execution_count": null,
      "outputs": []
    },
    {
      "cell_type": "code",
      "metadata": {
        "id": "YSvSt8TDcyg3"
      },
      "source": [
        "X_treino, X_teste, y_treino, y_teste = train_test_split(X_t,y, test_size =.2, stratify=y, random_state=10)"
      ],
      "execution_count": null,
      "outputs": []
    },
    {
      "cell_type": "code",
      "metadata": {
        "id": "LvWHfApEcype"
      },
      "source": [
        "from sklearn.linear_model import LogisticRegression"
      ],
      "execution_count": null,
      "outputs": []
    },
    {
      "cell_type": "code",
      "metadata": {
        "id": "1Sw2zNjUSNWa"
      },
      "source": [
        ""
      ],
      "execution_count": null,
      "outputs": []
    },
    {
      "cell_type": "code",
      "metadata": {
        "id": "4KWHwPGWSttX"
      },
      "source": [
        "from sklearn.metrics import confusion_matrix"
      ],
      "execution_count": null,
      "outputs": []
    },
    {
      "cell_type": "code",
      "metadata": {
        "id": "o0garQ83rbFY"
      },
      "source": [
        "def gera_resultados(C=1.0, class_weight=None, dual=False, fit_intercept=True,\r\n",
        "                    intercept_scaling=1, l1_ratio=None, max_iter=100,\r\n",
        "                    multi_class='auto', n_jobs=None, penalty='l2',\r\n",
        "                    random_state=12, solver='lbfgs', tol=0.0001, verbose=0,\r\n",
        "                    warm_start=False):\r\n",
        "  modelo = LogisticRegression(C=C, class_weight=class_weight, dual=dual, fit_intercept=fit_intercept,\r\n",
        "                    intercept_scaling=intercept_scaling, l1_ratio=l1_ratio, max_iter=max_iter,\r\n",
        "                    multi_class=multi_class, n_jobs=n_jobs, penalty=penalty,\r\n",
        "                    random_state=12, solver=solver, tol=tol, verbose=verbose,\r\n",
        "                    warm_start=warm_start)\r\n",
        "  modelo.fit(X_treino,y_treino)\r\n",
        "  pred = modelo.predict(X_teste)\r\n",
        "  print('Acurácia:')\r\n",
        "  print(modelo.score(X_teste,y_teste))\r\n",
        "  matriz_de_confusao = confusion_matrix(y_teste, pred)\r\n",
        "  sns.heatmap(matriz_de_confusao, annot=True,cmap='Blues')\r\n",
        "  \r\n",
        "\r\n"
      ],
      "execution_count": null,
      "outputs": []
    },
    {
      "cell_type": "code",
      "metadata": {
        "colab": {
          "base_uri": "https://localhost:8080/",
          "height": 300
        },
        "id": "dPvt4-KRVDkF",
        "outputId": "25c363dc-905f-4319-e082-0910844e3c79"
      },
      "source": [
        "gera_resultados(C=1.0, class_weight=None, dual=False, fit_intercept=True,\r\n",
        "                    intercept_scaling=1, l1_ratio=0.5, max_iter=100,\r\n",
        "                    multi_class='auto', n_jobs=None, penalty='elasticnet',\r\n",
        "                    random_state=12, solver='lbfgs', tol=0.0001, verbose=0,\r\n",
        "                    warm_start=False)"
      ],
      "execution_count": null,
      "outputs": [
        {
          "output_type": "stream",
          "text": [
            "Acurácia:\n",
            "0.8524590163934426\n"
          ],
          "name": "stdout"
        },
        {
          "output_type": "display_data",
          "data": {
            "image/png": "[encoded data removed]",
            "text/plain": [
              "<Figure size 432x288 with 2 Axes>"
            ]
          },
          "metadata": {
            "tags": [],
            "needs_background": "light"
          }
        }
      ]
    },
    {
      "cell_type": "code",
      "metadata": {
        "colab": {
          "base_uri": "https://localhost:8080/"
        },
        "id": "icJsw57pXEcF",
        "outputId": "f839c250-6f84-411e-fc24-38d043f35703"
      },
      "source": [
        "X.shape"
      ],
      "execution_count": null,
      "outputs": [
        {
          "output_type": "execute_result",
          "data": {
            "text/plain": [
              "(303, 19)"
            ]
          },
          "metadata": {
            "tags": []
          },
          "execution_count": 62
        }
      ]
    },
    {
      "cell_type": "code",
      "metadata": {
        "colab": {
          "base_uri": "https://localhost:8080/",
          "height": 300
        },
        "id": "77E6erVnwX5m",
        "outputId": "9763f236-800c-4ea9-dea0-0d4f55feda6d"
      },
      "source": [
        "gera_resultados(C=0.0005, class_weight='balanced', dual=False, fit_intercept=True,\r\n",
        "                    intercept_scaling=1, l1_ratio=0.1, max_iter=100,\r\n",
        "                    multi_class='ovr', n_jobs=None, penalty='elasticnet',\r\n",
        "                    random_state=13, solver='saga', tol=0.0001, verbose=0,\r\n",
        "                    warm_start=False)"
      ],
      "execution_count": null,
      "outputs": [
        {
          "output_type": "stream",
          "text": [
            "Acurácia:\n",
            "0.45901639344262296\n"
          ],
          "name": "stdout"
        },
        {
          "output_type": "display_data",
          "data": {
            "image/png": "[encoded data removed]",
            "text/plain": [
              "<Figure size 432x288 with 2 Axes>"
            ]
          },
          "metadata": {
            "tags": [],
            "needs_background": "light"
          }
        }
      ]
    },
    {
      "cell_type": "code",
      "metadata": {
        "id": "O-i3p6Zg7_uZ"
      },
      "source": [
        "https://shap.readthedocs.io/en/latest/\r\n",
        "\r\n",
        "https://pypi.org/project/sweetviz/\r\n",
        "\r\n",
        "https://pandas-profiling.github.io/pandas-profiling/docs/master/rtd/"
      ],
      "execution_count": null,
      "outputs": []
    },
    {
      "cell_type": "code",
      "metadata": {
        "id": "zH29biDAaG1S"
      },
      "source": [
        ""
      ],
      "execution_count": null,
      "outputs": []
    }
  ]
}